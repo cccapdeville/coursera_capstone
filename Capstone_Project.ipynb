{
 "cells": [
  {
   "cell_type": "markdown",
   "metadata": {},
   "source": [
    "# Identifying Food Deserts\n",
    "### Independent project, serving as capstone to the IBM Coursera Data Science Professional Certificate\n",
    "#### Christian Capdeville, November 2020"
   ]
  },
  {
   "cell_type": "markdown",
   "metadata": {},
   "source": [
    "#### Overview\n",
    "\n",
    "Many low income areas across the US are without easy access to food of adequate nutritional quality (for example, a full-size grocery store such as Kroger's or HEB). Instead, these places may have nearby convenience stores or fast food restaurants, which exacerbate related health issues which often plague low income communities. An area which can be described thusly is referred to as a \"food desert.\" Most residents of low income food deserts also lack adequate transportation, presenting another barrier to overcoming the situation. \n",
    "\n",
    "Non-profit organizations looking to improve lives within low-income communities often look to resolve this situation. Some organizations open up their own grocery store, while others might look to solve for the transportation barrier. In this project, I will be looking to identify food deserts to highlight for non-profit organizations looking to deploy resources.\n",
    "\n",
    "Some of the criteria for this identification will be:\n",
    "- Mean distance to grocery stores\n",
    "- Mean distance to convenience stores\n",
    "- Mean distance to fast food restaurants\n",
    "- Population or density of residential addresses/apartment complexes"
   ]
  },
  {
   "cell_type": "markdown",
   "metadata": {},
   "source": [
    "#### Data needed\n",
    "\n",
    "I will use Foursquare location data to identify neighborhoods with high distance to grocery stores, low distance to convenience stores and fast food, and potentially high density of residential apartment complexes. I will use an area of Galveston known as \"North of Broadway\" as a model, as this is a food desert which is known to me. I will look for other areas in Houston which match this dynamic.\n",
    "\n",
    "I will also look to incorporate specific guidelines of distance and community constraints which are commonly cited:\n",
    "- More than one mile from a grocery store\n",
    "- Transportation constraints"
   ]
  },
  {
   "cell_type": "code",
   "execution_count": null,
   "metadata": {},
   "outputs": [],
   "source": []
  }
 ],
 "metadata": {
  "kernelspec": {
   "display_name": "Python 3",
   "language": "python",
   "name": "python3"
  },
  "language_info": {
   "codemirror_mode": {
    "name": "ipython",
    "version": 3
   },
   "file_extension": ".py",
   "mimetype": "text/x-python",
   "name": "python",
   "nbconvert_exporter": "python",
   "pygments_lexer": "ipython3",
   "version": "3.8.3"
  }
 },
 "nbformat": 4,
 "nbformat_minor": 4
}
